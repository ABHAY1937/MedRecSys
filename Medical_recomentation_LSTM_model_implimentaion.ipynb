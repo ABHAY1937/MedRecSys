{
  "nbformat": 4,
  "nbformat_minor": 0,
  "metadata": {
    "colab": {
      "provenance": [],
      "authorship_tag": "ABX9TyMTLhJT/idgwdNYC8uq34D9",
      "include_colab_link": true
    },
    "kernelspec": {
      "name": "python3",
      "display_name": "Python 3"
    },
    "language_info": {
      "name": "python"
    }
  },
  "cells": [
    {
      "cell_type": "markdown",
      "metadata": {
        "id": "view-in-github",
        "colab_type": "text"
      },
      "source": [
        "<a href=\"https://colab.research.google.com/github/ABHAY1937/MedRecSys/blob/main/Medical_recomentation_LSTM_model_implimentaion.ipynb\" target=\"_parent\"><img src=\"https://colab.research.google.com/assets/colab-badge.svg\" alt=\"Open In Colab\"/></a>"
      ]
    },
    {
      "cell_type": "code",
      "execution_count": 1,
      "metadata": {
        "id": "W1-GK2XE6yZa"
      },
      "outputs": [],
      "source": [
        "import pandas as pd\n",
        "import numpy as np\n",
        "from sklearn.model_selection import train_test_split\n",
        "from sklearn.preprocessing import LabelEncoder\n",
        "from keras.preprocessing.text import Tokenizer\n",
        "from tensorflow.keras.preprocessing.sequence import pad_sequences\n",
        "from keras.models import Sequential\n",
        "from keras.layers import Embedding, LSTM, Dense\n",
        "import pickle\n"
      ]
    },
    {
      "cell_type": "code",
      "source": [
        "# Load CSV data into a DataFrame\n",
        "df = pd.read_csv('/content/medical data.csv')\n",
        "df.head()"
      ],
      "metadata": {
        "colab": {
          "base_uri": "https://localhost:8080/",
          "height": 206
        },
        "id": "IpnjmeCJ66Ec",
        "outputId": "8e33c1cc-27fc-442d-8782-53d2861aeae6"
      },
      "execution_count": 2,
      "outputs": [
        {
          "output_type": "execute_result",
          "data": {
            "text/plain": [
              "          Name DateOfBirth  Gender             Symptoms               Causes  \\\n",
              "0     John Doe  15-05-1980    Male         Fever, Cough      Viral Infection   \n",
              "1   Jane Smith  10-08-1992  Female    Headache, Fatigue               Stress   \n",
              "2  Michael Lee  20-02-1975    Male  Shortness of breath            Pollution   \n",
              "3   Emily Chen  03-11-1988  Female     Nausea, Vomiting       Food Poisoning   \n",
              "4    Alex Wong  12-06-2001    Male          Sore Throat  Bacterial Infection   \n",
              "\n",
              "           Disease           Medicine  \n",
              "0      Common Cold    Ibuprofen, Rest  \n",
              "1         Migraine        Sumatriptan  \n",
              "2           Asthma  Albuterol Inhaler  \n",
              "3  Gastroenteritis   Oral Rehydration  \n",
              "4     Strep Throat         Penicillin  "
            ],
            "text/html": [
              "\n",
              "  <div id=\"df-971c0b7e-4817-4f0a-8c4e-2af6d2532a56\" class=\"colab-df-container\">\n",
              "    <div>\n",
              "<style scoped>\n",
              "    .dataframe tbody tr th:only-of-type {\n",
              "        vertical-align: middle;\n",
              "    }\n",
              "\n",
              "    .dataframe tbody tr th {\n",
              "        vertical-align: top;\n",
              "    }\n",
              "\n",
              "    .dataframe thead th {\n",
              "        text-align: right;\n",
              "    }\n",
              "</style>\n",
              "<table border=\"1\" class=\"dataframe\">\n",
              "  <thead>\n",
              "    <tr style=\"text-align: right;\">\n",
              "      <th></th>\n",
              "      <th>Name</th>\n",
              "      <th>DateOfBirth</th>\n",
              "      <th>Gender</th>\n",
              "      <th>Symptoms</th>\n",
              "      <th>Causes</th>\n",
              "      <th>Disease</th>\n",
              "      <th>Medicine</th>\n",
              "    </tr>\n",
              "  </thead>\n",
              "  <tbody>\n",
              "    <tr>\n",
              "      <th>0</th>\n",
              "      <td>John Doe</td>\n",
              "      <td>15-05-1980</td>\n",
              "      <td>Male</td>\n",
              "      <td>Fever, Cough</td>\n",
              "      <td>Viral Infection</td>\n",
              "      <td>Common Cold</td>\n",
              "      <td>Ibuprofen, Rest</td>\n",
              "    </tr>\n",
              "    <tr>\n",
              "      <th>1</th>\n",
              "      <td>Jane Smith</td>\n",
              "      <td>10-08-1992</td>\n",
              "      <td>Female</td>\n",
              "      <td>Headache, Fatigue</td>\n",
              "      <td>Stress</td>\n",
              "      <td>Migraine</td>\n",
              "      <td>Sumatriptan</td>\n",
              "    </tr>\n",
              "    <tr>\n",
              "      <th>2</th>\n",
              "      <td>Michael Lee</td>\n",
              "      <td>20-02-1975</td>\n",
              "      <td>Male</td>\n",
              "      <td>Shortness of breath</td>\n",
              "      <td>Pollution</td>\n",
              "      <td>Asthma</td>\n",
              "      <td>Albuterol Inhaler</td>\n",
              "    </tr>\n",
              "    <tr>\n",
              "      <th>3</th>\n",
              "      <td>Emily Chen</td>\n",
              "      <td>03-11-1988</td>\n",
              "      <td>Female</td>\n",
              "      <td>Nausea, Vomiting</td>\n",
              "      <td>Food Poisoning</td>\n",
              "      <td>Gastroenteritis</td>\n",
              "      <td>Oral Rehydration</td>\n",
              "    </tr>\n",
              "    <tr>\n",
              "      <th>4</th>\n",
              "      <td>Alex Wong</td>\n",
              "      <td>12-06-2001</td>\n",
              "      <td>Male</td>\n",
              "      <td>Sore Throat</td>\n",
              "      <td>Bacterial Infection</td>\n",
              "      <td>Strep Throat</td>\n",
              "      <td>Penicillin</td>\n",
              "    </tr>\n",
              "  </tbody>\n",
              "</table>\n",
              "</div>\n",
              "    <div class=\"colab-df-buttons\">\n",
              "\n",
              "  <div class=\"colab-df-container\">\n",
              "    <button class=\"colab-df-convert\" onclick=\"convertToInteractive('df-971c0b7e-4817-4f0a-8c4e-2af6d2532a56')\"\n",
              "            title=\"Convert this dataframe to an interactive table.\"\n",
              "            style=\"display:none;\">\n",
              "\n",
              "  <svg xmlns=\"http://www.w3.org/2000/svg\" height=\"24px\" viewBox=\"0 -960 960 960\">\n",
              "    <path d=\"M120-120v-720h720v720H120Zm60-500h600v-160H180v160Zm220 220h160v-160H400v160Zm0 220h160v-160H400v160ZM180-400h160v-160H180v160Zm440 0h160v-160H620v160ZM180-180h160v-160H180v160Zm440 0h160v-160H620v160Z\"/>\n",
              "  </svg>\n",
              "    </button>\n",
              "\n",
              "  <style>\n",
              "    .colab-df-container {\n",
              "      display:flex;\n",
              "      gap: 12px;\n",
              "    }\n",
              "\n",
              "    .colab-df-convert {\n",
              "      background-color: #E8F0FE;\n",
              "      border: none;\n",
              "      border-radius: 50%;\n",
              "      cursor: pointer;\n",
              "      display: none;\n",
              "      fill: #1967D2;\n",
              "      height: 32px;\n",
              "      padding: 0 0 0 0;\n",
              "      width: 32px;\n",
              "    }\n",
              "\n",
              "    .colab-df-convert:hover {\n",
              "      background-color: #E2EBFA;\n",
              "      box-shadow: 0px 1px 2px rgba(60, 64, 67, 0.3), 0px 1px 3px 1px rgba(60, 64, 67, 0.15);\n",
              "      fill: #174EA6;\n",
              "    }\n",
              "\n",
              "    .colab-df-buttons div {\n",
              "      margin-bottom: 4px;\n",
              "    }\n",
              "\n",
              "    [theme=dark] .colab-df-convert {\n",
              "      background-color: #3B4455;\n",
              "      fill: #D2E3FC;\n",
              "    }\n",
              "\n",
              "    [theme=dark] .colab-df-convert:hover {\n",
              "      background-color: #434B5C;\n",
              "      box-shadow: 0px 1px 3px 1px rgba(0, 0, 0, 0.15);\n",
              "      filter: drop-shadow(0px 1px 2px rgba(0, 0, 0, 0.3));\n",
              "      fill: #FFFFFF;\n",
              "    }\n",
              "  </style>\n",
              "\n",
              "    <script>\n",
              "      const buttonEl =\n",
              "        document.querySelector('#df-971c0b7e-4817-4f0a-8c4e-2af6d2532a56 button.colab-df-convert');\n",
              "      buttonEl.style.display =\n",
              "        google.colab.kernel.accessAllowed ? 'block' : 'none';\n",
              "\n",
              "      async function convertToInteractive(key) {\n",
              "        const element = document.querySelector('#df-971c0b7e-4817-4f0a-8c4e-2af6d2532a56');\n",
              "        const dataTable =\n",
              "          await google.colab.kernel.invokeFunction('convertToInteractive',\n",
              "                                                    [key], {});\n",
              "        if (!dataTable) return;\n",
              "\n",
              "        const docLinkHtml = 'Like what you see? Visit the ' +\n",
              "          '<a target=\"_blank\" href=https://colab.research.google.com/notebooks/data_table.ipynb>data table notebook</a>'\n",
              "          + ' to learn more about interactive tables.';\n",
              "        element.innerHTML = '';\n",
              "        dataTable['output_type'] = 'display_data';\n",
              "        await google.colab.output.renderOutput(dataTable, element);\n",
              "        const docLink = document.createElement('div');\n",
              "        docLink.innerHTML = docLinkHtml;\n",
              "        element.appendChild(docLink);\n",
              "      }\n",
              "    </script>\n",
              "  </div>\n",
              "\n",
              "\n",
              "<div id=\"df-b0399ea0-24e5-4f57-83a3-0b35bace8801\">\n",
              "  <button class=\"colab-df-quickchart\" onclick=\"quickchart('df-b0399ea0-24e5-4f57-83a3-0b35bace8801')\"\n",
              "            title=\"Suggest charts.\"\n",
              "            style=\"display:none;\">\n",
              "\n",
              "<svg xmlns=\"http://www.w3.org/2000/svg\" height=\"24px\"viewBox=\"0 0 24 24\"\n",
              "     width=\"24px\">\n",
              "    <g>\n",
              "        <path d=\"M19 3H5c-1.1 0-2 .9-2 2v14c0 1.1.9 2 2 2h14c1.1 0 2-.9 2-2V5c0-1.1-.9-2-2-2zM9 17H7v-7h2v7zm4 0h-2V7h2v10zm4 0h-2v-4h2v4z\"/>\n",
              "    </g>\n",
              "</svg>\n",
              "  </button>\n",
              "\n",
              "<style>\n",
              "  .colab-df-quickchart {\n",
              "    background-color: #E8F0FE;\n",
              "    border: none;\n",
              "    border-radius: 50%;\n",
              "    cursor: pointer;\n",
              "    display: none;\n",
              "    fill: #1967D2;\n",
              "    height: 32px;\n",
              "    padding: 0 0 0 0;\n",
              "    width: 32px;\n",
              "  }\n",
              "\n",
              "  .colab-df-quickchart:hover {\n",
              "    background-color: #E2EBFA;\n",
              "    box-shadow: 0px 1px 2px rgba(60, 64, 67, 0.3), 0px 1px 3px 1px rgba(60, 64, 67, 0.15);\n",
              "    fill: #174EA6;\n",
              "  }\n",
              "\n",
              "  [theme=dark] .colab-df-quickchart {\n",
              "    background-color: #3B4455;\n",
              "    fill: #D2E3FC;\n",
              "  }\n",
              "\n",
              "  [theme=dark] .colab-df-quickchart:hover {\n",
              "    background-color: #434B5C;\n",
              "    box-shadow: 0px 1px 3px 1px rgba(0, 0, 0, 0.15);\n",
              "    filter: drop-shadow(0px 1px 2px rgba(0, 0, 0, 0.3));\n",
              "    fill: #FFFFFF;\n",
              "  }\n",
              "</style>\n",
              "\n",
              "  <script>\n",
              "    async function quickchart(key) {\n",
              "      const charts = await google.colab.kernel.invokeFunction(\n",
              "          'suggestCharts', [key], {});\n",
              "    }\n",
              "    (() => {\n",
              "      let quickchartButtonEl =\n",
              "        document.querySelector('#df-b0399ea0-24e5-4f57-83a3-0b35bace8801 button');\n",
              "      quickchartButtonEl.style.display =\n",
              "        google.colab.kernel.accessAllowed ? 'block' : 'none';\n",
              "    })();\n",
              "  </script>\n",
              "</div>\n",
              "    </div>\n",
              "  </div>\n"
            ]
          },
          "metadata": {},
          "execution_count": 2
        }
      ]
    },
    {
      "cell_type": "code",
      "source": [
        "# Drop rows with missing values in 'Symptoms' and 'Medicine', 'Disease' columns\n",
        "df = df.dropna(subset=['Symptoms','Disease', 'Medicine'])\n"
      ],
      "metadata": {
        "id": "knfMWh5K6-zU"
      },
      "execution_count": 3,
      "outputs": []
    },
    {
      "cell_type": "code",
      "source": [
        "df.isnull().sum()"
      ],
      "metadata": {
        "colab": {
          "base_uri": "https://localhost:8080/"
        },
        "id": "nAbFGB5iKaNV",
        "outputId": "00cc1d4e-7f8c-4949-c7b8-5bbbbe1b9bf5"
      },
      "execution_count": 4,
      "outputs": [
        {
          "output_type": "execute_result",
          "data": {
            "text/plain": [
              "Name           1\n",
              "DateOfBirth    1\n",
              "Gender         1\n",
              "Symptoms       0\n",
              "Causes         1\n",
              "Disease        0\n",
              "Medicine       0\n",
              "dtype: int64"
            ]
          },
          "metadata": {},
          "execution_count": 4
        }
      ]
    },
    {
      "cell_type": "code",
      "source": [
        "\n",
        "# Preprocess text data\n",
        "tokenizer = Tokenizer()\n",
        "tokenizer.fit_on_texts(df['Disease'].values)\n",
        "input_sequences = tokenizer.texts_to_sequences(df['Disease'].values)\n"
      ],
      "metadata": {
        "id": "omGhVvFR6-7x"
      },
      "execution_count": 5,
      "outputs": []
    },
    {
      "cell_type": "code",
      "source": [
        "len(input_sequences)"
      ],
      "metadata": {
        "colab": {
          "base_uri": "https://localhost:8080/"
        },
        "id": "NDjNa5w_yNon",
        "outputId": "ad352979-a28d-42d2-bfef-fba484e73e2d"
      },
      "execution_count": 6,
      "outputs": [
        {
          "output_type": "execute_result",
          "data": {
            "text/plain": [
              "242"
            ]
          },
          "metadata": {},
          "execution_count": 6
        }
      ]
    },
    {
      "cell_type": "code",
      "source": [
        "with open('tokenizer.pickle','wb') as handle:\n",
        " pickle.dump(tokenizer,handle,protocol = pickle.HIGHEST_PROTOCOL) #saving the training model"
      ],
      "metadata": {
        "id": "9v0b9D3bV8i0"
      },
      "execution_count": 7,
      "outputs": []
    },
    {
      "cell_type": "code",
      "source": [
        "max_sequence_len = max([len(seq) for seq in input_sequences])\n",
        "max_sequence_len"
      ],
      "metadata": {
        "id": "8ABcMRr-6_B4",
        "colab": {
          "base_uri": "https://localhost:8080/"
        },
        "outputId": "26b55635-19e0-46d8-8f53-0e9af77c87d9"
      },
      "execution_count": 8,
      "outputs": [
        {
          "output_type": "execute_result",
          "data": {
            "text/plain": [
              "3"
            ]
          },
          "metadata": {},
          "execution_count": 8
        }
      ]
    },
    {
      "cell_type": "code",
      "source": [
        "vocab_size = len(tokenizer.word_index) + 1"
      ],
      "metadata": {
        "id": "FB-f5iz-1M1U"
      },
      "execution_count": 9,
      "outputs": []
    },
    {
      "cell_type": "code",
      "source": [
        "# Pad sequences to a uniform length\n",
        "input_sequences_padded = pad_sequences(input_sequences, maxlen=max_sequence_len, padding='pre')"
      ],
      "metadata": {
        "id": "o_DVbv7N6_E-"
      },
      "execution_count": 10,
      "outputs": []
    },
    {
      "cell_type": "code",
      "source": [
        "# Encode target labels (Medicine)\n",
        "label_encoder = LabelEncoder()\n",
        "encoded_labels = label_encoder.fit_transform(df['Medicine'].values)\n",
        "# lab = label_encoder.fit_transform(df['Disease'].values)\n",
        "# lab1 = label_encoder.fit_transform(df['Symptoms'].values)"
      ],
      "metadata": {
        "id": "ijo0Jz6P6_Id"
      },
      "execution_count": 11,
      "outputs": []
    },
    {
      "cell_type": "code",
      "source": [
        "# Split data into training and testing sets\n",
        "X_train, X_test, y_train, y_test = train_test_split(input_sequences_padded, encoded_labels, test_size=0.30, random_state=42)"
      ],
      "metadata": {
        "id": "37lg8IYu6_Mu"
      },
      "execution_count": 12,
      "outputs": []
    },
    {
      "cell_type": "code",
      "source": [
        "#Build an LSTM model\n",
        "model = Sequential()\n",
        "model.add(Embedding(vocab_size, 100, input_length=max_sequence_len))\n",
        "model.add(LSTM(128))\n",
        "model.add(Dense(len(label_encoder.classes_), activation='softmax'))"
      ],
      "metadata": {
        "id": "KlZ5aCVY6_Qt"
      },
      "execution_count": 13,
      "outputs": []
    },
    {
      "cell_type": "code",
      "source": [
        "model.compile(loss='sparse_categorical_crossentropy', optimizer='adam', metrics=['accuracy'])\n",
        "model.summary()"
      ],
      "metadata": {
        "colab": {
          "base_uri": "https://localhost:8080/"
        },
        "id": "8KbTY62r6_UG",
        "outputId": "49b0d5fe-1e22-4be2-e1c0-494e75037b90"
      },
      "execution_count": 14,
      "outputs": [
        {
          "output_type": "stream",
          "name": "stdout",
          "text": [
            "Model: \"sequential\"\n",
            "_________________________________________________________________\n",
            " Layer (type)                Output Shape              Param #   \n",
            "=================================================================\n",
            " embedding (Embedding)       (None, 3, 100)            6800      \n",
            "                                                                 \n",
            " lstm (LSTM)                 (None, 128)               117248    \n",
            "                                                                 \n",
            " dense (Dense)               (None, 65)                8385      \n",
            "                                                                 \n",
            "=================================================================\n",
            "Total params: 132,433\n",
            "Trainable params: 132,433\n",
            "Non-trainable params: 0\n",
            "_________________________________________________________________\n"
          ]
        }
      ]
    },
    {
      "cell_type": "code",
      "source": [
        "# Train the model\n",
        "model.fit(X_train, y_train, epochs=200, batch_size=32, validation_data=(X_test, y_test))"
      ],
      "metadata": {
        "colab": {
          "base_uri": "https://localhost:8080/"
        },
        "id": "sWmt0YYa6_XJ",
        "outputId": "2d5ab206-34a0-4df5-f293-8a811c14a73a"
      },
      "execution_count": 15,
      "outputs": [
        {
          "output_type": "stream",
          "name": "stdout",
          "text": [
            "Epoch 1/200\n",
            "6/6 [==============================] - 3s 122ms/step - loss: 4.1679 - accuracy: 0.1006 - val_loss: 4.1551 - val_accuracy: 0.3425\n",
            "Epoch 2/200\n",
            "6/6 [==============================] - 0s 13ms/step - loss: 4.1385 - accuracy: 0.3018 - val_loss: 4.1338 - val_accuracy: 0.2740\n",
            "Epoch 3/200\n",
            "6/6 [==============================] - 0s 14ms/step - loss: 4.1051 - accuracy: 0.3550 - val_loss: 4.1051 - val_accuracy: 0.2740\n",
            "Epoch 4/200\n",
            "6/6 [==============================] - 0s 13ms/step - loss: 4.0559 - accuracy: 0.2899 - val_loss: 4.0611 - val_accuracy: 0.1644\n",
            "Epoch 5/200\n",
            "6/6 [==============================] - 0s 15ms/step - loss: 3.9689 - accuracy: 0.2071 - val_loss: 3.9922 - val_accuracy: 0.1507\n",
            "Epoch 6/200\n",
            "6/6 [==============================] - 0s 14ms/step - loss: 3.8101 - accuracy: 0.1183 - val_loss: 3.8901 - val_accuracy: 0.1096\n",
            "Epoch 7/200\n",
            "6/6 [==============================] - 0s 14ms/step - loss: 3.5948 - accuracy: 0.1065 - val_loss: 3.8992 - val_accuracy: 0.1096\n",
            "Epoch 8/200\n",
            "6/6 [==============================] - 0s 24ms/step - loss: 3.4452 - accuracy: 0.1065 - val_loss: 3.9901 - val_accuracy: 0.1096\n",
            "Epoch 9/200\n",
            "6/6 [==============================] - 0s 14ms/step - loss: 3.3395 - accuracy: 0.1183 - val_loss: 3.8663 - val_accuracy: 0.1918\n",
            "Epoch 10/200\n",
            "6/6 [==============================] - 0s 13ms/step - loss: 3.2225 - accuracy: 0.3136 - val_loss: 3.7345 - val_accuracy: 0.3425\n",
            "Epoch 11/200\n",
            "6/6 [==============================] - 0s 16ms/step - loss: 3.0912 - accuracy: 0.4852 - val_loss: 3.6849 - val_accuracy: 0.3425\n",
            "Epoch 12/200\n",
            "6/6 [==============================] - 0s 16ms/step - loss: 2.9183 - accuracy: 0.4852 - val_loss: 3.6465 - val_accuracy: 0.3425\n",
            "Epoch 13/200\n",
            "6/6 [==============================] - 0s 16ms/step - loss: 2.7278 - accuracy: 0.4379 - val_loss: 3.5976 - val_accuracy: 0.2877\n",
            "Epoch 14/200\n",
            "6/6 [==============================] - 0s 14ms/step - loss: 2.5108 - accuracy: 0.4438 - val_loss: 3.4712 - val_accuracy: 0.3973\n",
            "Epoch 15/200\n",
            "6/6 [==============================] - 0s 14ms/step - loss: 2.3082 - accuracy: 0.5207 - val_loss: 3.3615 - val_accuracy: 0.4795\n",
            "Epoch 16/200\n",
            "6/6 [==============================] - 0s 14ms/step - loss: 2.1013 - accuracy: 0.5917 - val_loss: 3.2512 - val_accuracy: 0.6027\n",
            "Epoch 17/200\n",
            "6/6 [==============================] - 0s 16ms/step - loss: 1.8920 - accuracy: 0.6923 - val_loss: 3.1912 - val_accuracy: 0.6027\n",
            "Epoch 18/200\n",
            "6/6 [==============================] - 0s 14ms/step - loss: 1.6942 - accuracy: 0.7396 - val_loss: 3.0949 - val_accuracy: 0.6027\n",
            "Epoch 19/200\n",
            "6/6 [==============================] - 0s 16ms/step - loss: 1.5145 - accuracy: 0.7751 - val_loss: 2.9716 - val_accuracy: 0.6438\n",
            "Epoch 20/200\n",
            "6/6 [==============================] - 0s 17ms/step - loss: 1.3545 - accuracy: 0.7811 - val_loss: 2.8926 - val_accuracy: 0.6438\n",
            "Epoch 21/200\n",
            "6/6 [==============================] - 0s 14ms/step - loss: 1.1916 - accuracy: 0.8047 - val_loss: 2.8088 - val_accuracy: 0.6575\n",
            "Epoch 22/200\n",
            "6/6 [==============================] - 0s 16ms/step - loss: 1.0770 - accuracy: 0.7929 - val_loss: 2.7588 - val_accuracy: 0.6575\n",
            "Epoch 23/200\n",
            "6/6 [==============================] - 0s 14ms/step - loss: 0.9664 - accuracy: 0.7870 - val_loss: 2.6702 - val_accuracy: 0.6575\n",
            "Epoch 24/200\n",
            "6/6 [==============================] - 0s 14ms/step - loss: 0.8775 - accuracy: 0.8047 - val_loss: 2.6275 - val_accuracy: 0.6575\n",
            "Epoch 25/200\n",
            "6/6 [==============================] - 0s 17ms/step - loss: 0.8079 - accuracy: 0.8402 - val_loss: 2.6608 - val_accuracy: 0.6575\n",
            "Epoch 26/200\n",
            "6/6 [==============================] - 0s 14ms/step - loss: 0.7439 - accuracy: 0.8462 - val_loss: 2.6229 - val_accuracy: 0.6575\n",
            "Epoch 27/200\n",
            "6/6 [==============================] - 0s 14ms/step - loss: 0.6906 - accuracy: 0.8521 - val_loss: 2.6073 - val_accuracy: 0.6575\n",
            "Epoch 28/200\n",
            "6/6 [==============================] - 0s 16ms/step - loss: 0.6418 - accuracy: 0.8698 - val_loss: 2.6251 - val_accuracy: 0.6575\n",
            "Epoch 29/200\n",
            "6/6 [==============================] - 0s 17ms/step - loss: 0.6060 - accuracy: 0.8757 - val_loss: 2.6591 - val_accuracy: 0.6575\n",
            "Epoch 30/200\n",
            "6/6 [==============================] - 0s 17ms/step - loss: 0.5707 - accuracy: 0.8757 - val_loss: 2.6280 - val_accuracy: 0.6575\n",
            "Epoch 31/200\n",
            "6/6 [==============================] - 0s 14ms/step - loss: 0.5436 - accuracy: 0.8757 - val_loss: 2.6387 - val_accuracy: 0.6575\n",
            "Epoch 32/200\n",
            "6/6 [==============================] - 0s 16ms/step - loss: 0.5143 - accuracy: 0.8757 - val_loss: 2.6441 - val_accuracy: 0.6575\n",
            "Epoch 33/200\n",
            "6/6 [==============================] - 0s 19ms/step - loss: 0.4915 - accuracy: 0.8757 - val_loss: 2.6197 - val_accuracy: 0.6575\n",
            "Epoch 34/200\n",
            "6/6 [==============================] - 0s 16ms/step - loss: 0.4693 - accuracy: 0.8817 - val_loss: 2.6292 - val_accuracy: 0.6849\n",
            "Epoch 35/200\n",
            "6/6 [==============================] - 0s 14ms/step - loss: 0.4506 - accuracy: 0.8935 - val_loss: 2.6402 - val_accuracy: 0.6849\n",
            "Epoch 36/200\n",
            "6/6 [==============================] - 0s 14ms/step - loss: 0.4292 - accuracy: 0.8994 - val_loss: 2.6474 - val_accuracy: 0.6849\n",
            "Epoch 37/200\n",
            "6/6 [==============================] - 0s 15ms/step - loss: 0.4230 - accuracy: 0.8935 - val_loss: 2.6569 - val_accuracy: 0.6438\n",
            "Epoch 38/200\n",
            "6/6 [==============================] - 0s 14ms/step - loss: 0.4123 - accuracy: 0.8876 - val_loss: 2.6458 - val_accuracy: 0.6849\n",
            "Epoch 39/200\n",
            "6/6 [==============================] - 0s 14ms/step - loss: 0.3974 - accuracy: 0.8994 - val_loss: 2.6410 - val_accuracy: 0.6849\n",
            "Epoch 40/200\n",
            "6/6 [==============================] - 0s 15ms/step - loss: 0.3871 - accuracy: 0.8994 - val_loss: 2.6419 - val_accuracy: 0.6849\n",
            "Epoch 41/200\n",
            "6/6 [==============================] - 0s 16ms/step - loss: 0.3718 - accuracy: 0.8994 - val_loss: 2.6234 - val_accuracy: 0.6849\n",
            "Epoch 42/200\n",
            "6/6 [==============================] - 0s 14ms/step - loss: 0.3640 - accuracy: 0.8935 - val_loss: 2.6209 - val_accuracy: 0.6849\n",
            "Epoch 43/200\n",
            "6/6 [==============================] - 0s 15ms/step - loss: 0.3572 - accuracy: 0.8994 - val_loss: 2.6399 - val_accuracy: 0.6849\n",
            "Epoch 44/200\n",
            "6/6 [==============================] - 0s 18ms/step - loss: 0.3476 - accuracy: 0.8994 - val_loss: 2.6681 - val_accuracy: 0.6712\n",
            "Epoch 45/200\n",
            "6/6 [==============================] - 0s 14ms/step - loss: 0.3402 - accuracy: 0.8994 - val_loss: 2.6911 - val_accuracy: 0.6712\n",
            "Epoch 46/200\n",
            "6/6 [==============================] - 0s 14ms/step - loss: 0.3286 - accuracy: 0.8994 - val_loss: 2.6483 - val_accuracy: 0.6712\n",
            "Epoch 47/200\n",
            "6/6 [==============================] - 0s 15ms/step - loss: 0.3224 - accuracy: 0.8994 - val_loss: 2.6497 - val_accuracy: 0.6849\n",
            "Epoch 48/200\n",
            "6/6 [==============================] - 0s 14ms/step - loss: 0.3149 - accuracy: 0.8994 - val_loss: 2.6558 - val_accuracy: 0.6849\n",
            "Epoch 49/200\n",
            "6/6 [==============================] - 0s 14ms/step - loss: 0.3089 - accuracy: 0.8994 - val_loss: 2.6764 - val_accuracy: 0.6849\n",
            "Epoch 50/200\n",
            "6/6 [==============================] - 0s 18ms/step - loss: 0.3053 - accuracy: 0.8817 - val_loss: 2.7017 - val_accuracy: 0.6849\n",
            "Epoch 51/200\n",
            "6/6 [==============================] - 0s 14ms/step - loss: 0.2977 - accuracy: 0.8994 - val_loss: 2.6770 - val_accuracy: 0.6849\n",
            "Epoch 52/200\n",
            "6/6 [==============================] - 0s 15ms/step - loss: 0.2963 - accuracy: 0.8994 - val_loss: 2.6852 - val_accuracy: 0.6849\n",
            "Epoch 53/200\n",
            "6/6 [==============================] - 0s 15ms/step - loss: 0.2914 - accuracy: 0.8994 - val_loss: 2.6761 - val_accuracy: 0.6849\n",
            "Epoch 54/200\n",
            "6/6 [==============================] - 0s 16ms/step - loss: 0.2820 - accuracy: 0.8994 - val_loss: 2.6663 - val_accuracy: 0.6849\n",
            "Epoch 55/200\n",
            "6/6 [==============================] - 0s 16ms/step - loss: 0.2763 - accuracy: 0.8994 - val_loss: 2.6814 - val_accuracy: 0.6849\n",
            "Epoch 56/200\n",
            "6/6 [==============================] - 0s 16ms/step - loss: 0.2799 - accuracy: 0.8994 - val_loss: 2.6701 - val_accuracy: 0.6849\n",
            "Epoch 57/200\n",
            "6/6 [==============================] - 0s 16ms/step - loss: 0.2723 - accuracy: 0.8935 - val_loss: 2.6862 - val_accuracy: 0.6712\n",
            "Epoch 58/200\n",
            "6/6 [==============================] - 0s 26ms/step - loss: 0.2650 - accuracy: 0.8994 - val_loss: 2.6947 - val_accuracy: 0.6712\n",
            "Epoch 59/200\n",
            "6/6 [==============================] - 0s 25ms/step - loss: 0.2742 - accuracy: 0.8994 - val_loss: 2.6940 - val_accuracy: 0.6712\n",
            "Epoch 60/200\n",
            "6/6 [==============================] - 0s 29ms/step - loss: 0.2698 - accuracy: 0.8994 - val_loss: 2.6908 - val_accuracy: 0.6712\n",
            "Epoch 61/200\n",
            "6/6 [==============================] - 0s 25ms/step - loss: 0.2624 - accuracy: 0.8994 - val_loss: 2.6780 - val_accuracy: 0.6712\n",
            "Epoch 62/200\n",
            "6/6 [==============================] - 0s 24ms/step - loss: 0.2618 - accuracy: 0.8994 - val_loss: 2.6965 - val_accuracy: 0.6712\n",
            "Epoch 63/200\n",
            "6/6 [==============================] - 0s 24ms/step - loss: 0.2580 - accuracy: 0.8994 - val_loss: 2.7116 - val_accuracy: 0.6712\n",
            "Epoch 64/200\n",
            "6/6 [==============================] - 0s 25ms/step - loss: 0.2597 - accuracy: 0.8994 - val_loss: 2.7281 - val_accuracy: 0.6849\n",
            "Epoch 65/200\n",
            "6/6 [==============================] - 0s 24ms/step - loss: 0.2594 - accuracy: 0.8994 - val_loss: 2.7373 - val_accuracy: 0.6849\n",
            "Epoch 66/200\n",
            "6/6 [==============================] - 0s 24ms/step - loss: 0.2550 - accuracy: 0.8935 - val_loss: 2.7343 - val_accuracy: 0.6849\n",
            "Epoch 67/200\n",
            "6/6 [==============================] - 0s 23ms/step - loss: 0.2572 - accuracy: 0.8994 - val_loss: 2.7278 - val_accuracy: 0.6849\n",
            "Epoch 68/200\n",
            "6/6 [==============================] - 0s 23ms/step - loss: 0.2599 - accuracy: 0.8935 - val_loss: 2.7180 - val_accuracy: 0.6849\n",
            "Epoch 69/200\n",
            "6/6 [==============================] - 0s 25ms/step - loss: 0.2556 - accuracy: 0.8935 - val_loss: 2.7278 - val_accuracy: 0.6849\n",
            "Epoch 70/200\n",
            "6/6 [==============================] - 0s 24ms/step - loss: 0.2504 - accuracy: 0.8994 - val_loss: 2.7386 - val_accuracy: 0.6849\n",
            "Epoch 71/200\n",
            "6/6 [==============================] - 0s 24ms/step - loss: 0.2512 - accuracy: 0.8994 - val_loss: 2.7362 - val_accuracy: 0.6849\n",
            "Epoch 72/200\n",
            "6/6 [==============================] - 0s 27ms/step - loss: 0.2544 - accuracy: 0.8876 - val_loss: 2.7495 - val_accuracy: 0.6849\n",
            "Epoch 73/200\n",
            "6/6 [==============================] - 0s 25ms/step - loss: 0.2514 - accuracy: 0.8994 - val_loss: 2.7511 - val_accuracy: 0.6849\n",
            "Epoch 74/200\n",
            "6/6 [==============================] - 0s 23ms/step - loss: 0.2470 - accuracy: 0.9053 - val_loss: 2.7358 - val_accuracy: 0.6849\n",
            "Epoch 75/200\n",
            "6/6 [==============================] - 0s 25ms/step - loss: 0.2513 - accuracy: 0.8994 - val_loss: 2.7225 - val_accuracy: 0.6849\n",
            "Epoch 76/200\n",
            "6/6 [==============================] - 0s 25ms/step - loss: 0.2493 - accuracy: 0.8994 - val_loss: 2.7282 - val_accuracy: 0.6849\n",
            "Epoch 77/200\n",
            "6/6 [==============================] - 0s 18ms/step - loss: 0.2568 - accuracy: 0.8994 - val_loss: 2.7474 - val_accuracy: 0.6849\n",
            "Epoch 78/200\n",
            "6/6 [==============================] - 0s 18ms/step - loss: 0.2508 - accuracy: 0.8994 - val_loss: 2.7653 - val_accuracy: 0.6849\n",
            "Epoch 79/200\n",
            "6/6 [==============================] - 0s 15ms/step - loss: 0.2519 - accuracy: 0.8994 - val_loss: 2.7793 - val_accuracy: 0.6849\n",
            "Epoch 80/200\n",
            "6/6 [==============================] - 0s 17ms/step - loss: 0.2469 - accuracy: 0.8994 - val_loss: 2.7838 - val_accuracy: 0.6849\n",
            "Epoch 81/200\n",
            "6/6 [==============================] - 0s 14ms/step - loss: 0.2449 - accuracy: 0.8876 - val_loss: 2.7831 - val_accuracy: 0.6301\n",
            "Epoch 82/200\n",
            "6/6 [==============================] - 0s 15ms/step - loss: 0.2492 - accuracy: 0.8994 - val_loss: 2.7875 - val_accuracy: 0.6712\n",
            "Epoch 83/200\n",
            "6/6 [==============================] - 0s 15ms/step - loss: 0.2492 - accuracy: 0.8994 - val_loss: 2.8055 - val_accuracy: 0.6712\n",
            "Epoch 84/200\n",
            "6/6 [==============================] - 0s 17ms/step - loss: 0.2463 - accuracy: 0.8994 - val_loss: 2.7795 - val_accuracy: 0.6712\n",
            "Epoch 85/200\n",
            "6/6 [==============================] - 0s 16ms/step - loss: 0.2407 - accuracy: 0.8994 - val_loss: 2.7773 - val_accuracy: 0.6712\n",
            "Epoch 86/200\n",
            "6/6 [==============================] - 0s 16ms/step - loss: 0.2416 - accuracy: 0.8994 - val_loss: 2.7975 - val_accuracy: 0.6712\n",
            "Epoch 87/200\n",
            "6/6 [==============================] - 0s 16ms/step - loss: 0.2472 - accuracy: 0.8994 - val_loss: 2.7983 - val_accuracy: 0.6849\n",
            "Epoch 88/200\n",
            "6/6 [==============================] - 0s 17ms/step - loss: 0.2457 - accuracy: 0.8876 - val_loss: 2.8019 - val_accuracy: 0.6849\n",
            "Epoch 89/200\n",
            "6/6 [==============================] - 0s 14ms/step - loss: 0.2459 - accuracy: 0.8876 - val_loss: 2.7843 - val_accuracy: 0.6849\n",
            "Epoch 90/200\n",
            "6/6 [==============================] - 0s 15ms/step - loss: 0.2486 - accuracy: 0.8994 - val_loss: 2.7840 - val_accuracy: 0.6849\n",
            "Epoch 91/200\n",
            "6/6 [==============================] - 0s 14ms/step - loss: 0.2456 - accuracy: 0.8994 - val_loss: 2.7937 - val_accuracy: 0.6849\n",
            "Epoch 92/200\n",
            "6/6 [==============================] - 0s 14ms/step - loss: 0.2437 - accuracy: 0.8994 - val_loss: 2.7860 - val_accuracy: 0.6849\n",
            "Epoch 93/200\n",
            "6/6 [==============================] - 0s 14ms/step - loss: 0.2458 - accuracy: 0.8994 - val_loss: 2.7753 - val_accuracy: 0.6849\n",
            "Epoch 94/200\n",
            "6/6 [==============================] - 0s 14ms/step - loss: 0.2405 - accuracy: 0.8994 - val_loss: 2.7838 - val_accuracy: 0.6849\n",
            "Epoch 95/200\n",
            "6/6 [==============================] - 0s 17ms/step - loss: 0.2404 - accuracy: 0.8935 - val_loss: 2.8006 - val_accuracy: 0.6849\n",
            "Epoch 96/200\n",
            "6/6 [==============================] - 0s 14ms/step - loss: 0.2413 - accuracy: 0.8935 - val_loss: 2.8102 - val_accuracy: 0.6849\n",
            "Epoch 97/200\n",
            "6/6 [==============================] - 0s 16ms/step - loss: 0.2494 - accuracy: 0.8876 - val_loss: 2.8151 - val_accuracy: 0.6849\n",
            "Epoch 98/200\n",
            "6/6 [==============================] - 0s 14ms/step - loss: 0.2473 - accuracy: 0.8876 - val_loss: 2.8193 - val_accuracy: 0.6849\n",
            "Epoch 99/200\n",
            "6/6 [==============================] - 0s 18ms/step - loss: 0.2412 - accuracy: 0.8994 - val_loss: 2.8258 - val_accuracy: 0.6849\n",
            "Epoch 100/200\n",
            "6/6 [==============================] - 0s 20ms/step - loss: 0.2378 - accuracy: 0.8935 - val_loss: 2.8391 - val_accuracy: 0.6712\n",
            "Epoch 101/200\n",
            "6/6 [==============================] - 0s 14ms/step - loss: 0.2453 - accuracy: 0.8994 - val_loss: 2.8445 - val_accuracy: 0.6712\n",
            "Epoch 102/200\n",
            "6/6 [==============================] - 0s 16ms/step - loss: 0.2425 - accuracy: 0.8994 - val_loss: 2.8518 - val_accuracy: 0.6712\n",
            "Epoch 103/200\n",
            "6/6 [==============================] - 0s 14ms/step - loss: 0.2407 - accuracy: 0.8994 - val_loss: 2.8586 - val_accuracy: 0.6712\n",
            "Epoch 104/200\n",
            "6/6 [==============================] - 0s 14ms/step - loss: 0.2365 - accuracy: 0.8994 - val_loss: 2.8546 - val_accuracy: 0.6712\n",
            "Epoch 105/200\n",
            "6/6 [==============================] - 0s 15ms/step - loss: 0.2365 - accuracy: 0.8935 - val_loss: 2.8486 - val_accuracy: 0.6712\n",
            "Epoch 106/200\n",
            "6/6 [==============================] - 0s 14ms/step - loss: 0.2352 - accuracy: 0.8994 - val_loss: 2.8449 - val_accuracy: 0.6849\n",
            "Epoch 107/200\n",
            "6/6 [==============================] - 0s 16ms/step - loss: 0.2395 - accuracy: 0.8994 - val_loss: 2.8346 - val_accuracy: 0.6712\n",
            "Epoch 108/200\n",
            "6/6 [==============================] - 0s 14ms/step - loss: 0.2357 - accuracy: 0.8994 - val_loss: 2.8505 - val_accuracy: 0.6849\n",
            "Epoch 109/200\n",
            "6/6 [==============================] - 0s 17ms/step - loss: 0.2365 - accuracy: 0.8994 - val_loss: 2.8699 - val_accuracy: 0.6849\n",
            "Epoch 110/200\n",
            "6/6 [==============================] - 0s 15ms/step - loss: 0.2370 - accuracy: 0.8994 - val_loss: 2.8703 - val_accuracy: 0.6849\n",
            "Epoch 111/200\n",
            "6/6 [==============================] - 0s 14ms/step - loss: 0.2373 - accuracy: 0.8994 - val_loss: 2.8795 - val_accuracy: 0.6849\n",
            "Epoch 112/200\n",
            "6/6 [==============================] - 0s 14ms/step - loss: 0.2388 - accuracy: 0.8994 - val_loss: 2.8713 - val_accuracy: 0.6849\n",
            "Epoch 113/200\n",
            "6/6 [==============================] - 0s 14ms/step - loss: 0.2373 - accuracy: 0.8935 - val_loss: 2.8708 - val_accuracy: 0.6849\n",
            "Epoch 114/200\n",
            "6/6 [==============================] - 0s 16ms/step - loss: 0.2365 - accuracy: 0.8935 - val_loss: 2.8699 - val_accuracy: 0.6849\n",
            "Epoch 115/200\n",
            "6/6 [==============================] - 0s 16ms/step - loss: 0.2372 - accuracy: 0.8935 - val_loss: 2.8750 - val_accuracy: 0.6849\n",
            "Epoch 116/200\n",
            "6/6 [==============================] - 0s 14ms/step - loss: 0.2387 - accuracy: 0.8935 - val_loss: 2.8677 - val_accuracy: 0.6849\n",
            "Epoch 117/200\n",
            "6/6 [==============================] - 0s 16ms/step - loss: 0.2322 - accuracy: 0.8994 - val_loss: 2.8481 - val_accuracy: 0.6849\n",
            "Epoch 118/200\n",
            "6/6 [==============================] - 0s 14ms/step - loss: 0.2372 - accuracy: 0.8935 - val_loss: 2.8518 - val_accuracy: 0.7123\n",
            "Epoch 119/200\n",
            "6/6 [==============================] - 0s 15ms/step - loss: 0.2389 - accuracy: 0.8994 - val_loss: 2.8717 - val_accuracy: 0.6712\n",
            "Epoch 120/200\n",
            "6/6 [==============================] - 0s 16ms/step - loss: 0.2332 - accuracy: 0.8994 - val_loss: 2.8824 - val_accuracy: 0.6849\n",
            "Epoch 121/200\n",
            "6/6 [==============================] - 0s 15ms/step - loss: 0.2349 - accuracy: 0.8994 - val_loss: 2.9045 - val_accuracy: 0.6849\n",
            "Epoch 122/200\n",
            "6/6 [==============================] - 0s 15ms/step - loss: 0.2351 - accuracy: 0.8994 - val_loss: 2.8930 - val_accuracy: 0.6849\n",
            "Epoch 123/200\n",
            "6/6 [==============================] - 0s 14ms/step - loss: 0.2357 - accuracy: 0.8994 - val_loss: 2.8678 - val_accuracy: 0.6849\n",
            "Epoch 124/200\n",
            "6/6 [==============================] - 0s 15ms/step - loss: 0.2415 - accuracy: 0.8994 - val_loss: 2.8512 - val_accuracy: 0.6849\n",
            "Epoch 125/200\n",
            "6/6 [==============================] - 0s 14ms/step - loss: 0.2409 - accuracy: 0.8876 - val_loss: 2.8500 - val_accuracy: 0.6849\n",
            "Epoch 126/200\n",
            "6/6 [==============================] - 0s 14ms/step - loss: 0.2392 - accuracy: 0.8876 - val_loss: 2.8630 - val_accuracy: 0.6849\n",
            "Epoch 127/200\n",
            "6/6 [==============================] - 0s 16ms/step - loss: 0.2377 - accuracy: 0.8994 - val_loss: 2.8925 - val_accuracy: 0.6849\n",
            "Epoch 128/200\n",
            "6/6 [==============================] - 0s 16ms/step - loss: 0.2347 - accuracy: 0.8994 - val_loss: 2.9079 - val_accuracy: 0.6712\n",
            "Epoch 129/200\n",
            "6/6 [==============================] - 0s 14ms/step - loss: 0.2349 - accuracy: 0.8994 - val_loss: 2.9067 - val_accuracy: 0.6712\n",
            "Epoch 130/200\n",
            "6/6 [==============================] - 0s 13ms/step - loss: 0.2316 - accuracy: 0.8994 - val_loss: 2.9036 - val_accuracy: 0.6712\n",
            "Epoch 131/200\n",
            "6/6 [==============================] - 0s 19ms/step - loss: 0.2347 - accuracy: 0.8994 - val_loss: 2.9049 - val_accuracy: 0.6712\n",
            "Epoch 132/200\n",
            "6/6 [==============================] - 0s 16ms/step - loss: 0.2341 - accuracy: 0.8994 - val_loss: 2.9063 - val_accuracy: 0.6712\n",
            "Epoch 133/200\n",
            "6/6 [==============================] - 0s 17ms/step - loss: 0.2325 - accuracy: 0.8994 - val_loss: 2.9201 - val_accuracy: 0.6712\n",
            "Epoch 134/200\n",
            "6/6 [==============================] - 0s 17ms/step - loss: 0.2327 - accuracy: 0.8994 - val_loss: 2.9186 - val_accuracy: 0.6849\n",
            "Epoch 135/200\n",
            "6/6 [==============================] - 0s 14ms/step - loss: 0.2316 - accuracy: 0.8994 - val_loss: 2.9297 - val_accuracy: 0.6849\n",
            "Epoch 136/200\n",
            "6/6 [==============================] - 0s 16ms/step - loss: 0.2345 - accuracy: 0.8994 - val_loss: 2.9267 - val_accuracy: 0.6849\n",
            "Epoch 137/200\n",
            "6/6 [==============================] - 0s 14ms/step - loss: 0.2324 - accuracy: 0.8994 - val_loss: 2.9400 - val_accuracy: 0.6849\n",
            "Epoch 138/200\n",
            "6/6 [==============================] - 0s 15ms/step - loss: 0.2327 - accuracy: 0.8994 - val_loss: 2.9412 - val_accuracy: 0.6849\n",
            "Epoch 139/200\n",
            "6/6 [==============================] - 0s 15ms/step - loss: 0.2333 - accuracy: 0.8994 - val_loss: 2.9373 - val_accuracy: 0.6849\n",
            "Epoch 140/200\n",
            "6/6 [==============================] - 0s 14ms/step - loss: 0.2335 - accuracy: 0.8994 - val_loss: 2.9273 - val_accuracy: 0.6849\n",
            "Epoch 141/200\n",
            "6/6 [==============================] - 0s 16ms/step - loss: 0.2331 - accuracy: 0.8935 - val_loss: 2.9263 - val_accuracy: 0.6849\n",
            "Epoch 142/200\n",
            "6/6 [==============================] - 0s 18ms/step - loss: 0.2336 - accuracy: 0.9053 - val_loss: 2.9237 - val_accuracy: 0.6849\n",
            "Epoch 143/200\n",
            "6/6 [==============================] - 0s 17ms/step - loss: 0.2332 - accuracy: 0.8994 - val_loss: 2.8986 - val_accuracy: 0.6849\n",
            "Epoch 144/200\n",
            "6/6 [==============================] - 0s 14ms/step - loss: 0.2331 - accuracy: 0.8994 - val_loss: 2.8985 - val_accuracy: 0.6849\n",
            "Epoch 145/200\n",
            "6/6 [==============================] - 0s 18ms/step - loss: 0.2339 - accuracy: 0.8994 - val_loss: 2.9066 - val_accuracy: 0.6849\n",
            "Epoch 146/200\n",
            "6/6 [==============================] - 0s 17ms/step - loss: 0.2341 - accuracy: 0.8994 - val_loss: 2.9246 - val_accuracy: 0.6849\n",
            "Epoch 147/200\n",
            "6/6 [==============================] - 0s 14ms/step - loss: 0.2390 - accuracy: 0.8994 - val_loss: 2.9277 - val_accuracy: 0.6849\n",
            "Epoch 148/200\n",
            "6/6 [==============================] - 0s 17ms/step - loss: 0.2373 - accuracy: 0.8994 - val_loss: 2.9342 - val_accuracy: 0.6849\n",
            "Epoch 149/200\n",
            "6/6 [==============================] - 0s 15ms/step - loss: 0.2340 - accuracy: 0.8994 - val_loss: 2.9303 - val_accuracy: 0.6849\n",
            "Epoch 150/200\n",
            "6/6 [==============================] - 0s 17ms/step - loss: 0.2333 - accuracy: 0.8994 - val_loss: 2.9377 - val_accuracy: 0.6849\n",
            "Epoch 151/200\n",
            "6/6 [==============================] - 0s 14ms/step - loss: 0.2306 - accuracy: 0.8994 - val_loss: 2.9511 - val_accuracy: 0.6849\n",
            "Epoch 152/200\n",
            "6/6 [==============================] - 0s 16ms/step - loss: 0.2312 - accuracy: 0.8994 - val_loss: 2.9832 - val_accuracy: 0.6849\n",
            "Epoch 153/200\n",
            "6/6 [==============================] - 0s 17ms/step - loss: 0.2347 - accuracy: 0.8935 - val_loss: 2.9673 - val_accuracy: 0.6849\n",
            "Epoch 154/200\n",
            "6/6 [==============================] - 0s 18ms/step - loss: 0.2344 - accuracy: 0.8994 - val_loss: 2.9580 - val_accuracy: 0.6849\n",
            "Epoch 155/200\n",
            "6/6 [==============================] - 0s 14ms/step - loss: 0.2338 - accuracy: 0.8994 - val_loss: 2.9442 - val_accuracy: 0.6849\n",
            "Epoch 156/200\n",
            "6/6 [==============================] - 0s 17ms/step - loss: 0.2307 - accuracy: 0.9053 - val_loss: 2.9412 - val_accuracy: 0.6849\n",
            "Epoch 157/200\n",
            "6/6 [==============================] - 0s 14ms/step - loss: 0.2293 - accuracy: 0.8994 - val_loss: 2.9465 - val_accuracy: 0.6849\n",
            "Epoch 158/200\n",
            "6/6 [==============================] - 0s 17ms/step - loss: 0.2330 - accuracy: 0.8994 - val_loss: 2.9557 - val_accuracy: 0.6849\n",
            "Epoch 159/200\n",
            "6/6 [==============================] - 0s 15ms/step - loss: 0.2330 - accuracy: 0.8994 - val_loss: 2.9679 - val_accuracy: 0.6849\n",
            "Epoch 160/200\n",
            "6/6 [==============================] - 0s 14ms/step - loss: 0.2331 - accuracy: 0.8994 - val_loss: 2.9722 - val_accuracy: 0.6849\n",
            "Epoch 161/200\n",
            "6/6 [==============================] - 0s 14ms/step - loss: 0.2333 - accuracy: 0.8994 - val_loss: 2.9658 - val_accuracy: 0.6849\n",
            "Epoch 162/200\n",
            "6/6 [==============================] - 0s 15ms/step - loss: 0.2318 - accuracy: 0.8994 - val_loss: 2.9350 - val_accuracy: 0.6849\n",
            "Epoch 163/200\n",
            "6/6 [==============================] - 0s 17ms/step - loss: 0.2361 - accuracy: 0.8994 - val_loss: 2.9286 - val_accuracy: 0.6849\n",
            "Epoch 164/200\n",
            "6/6 [==============================] - 0s 16ms/step - loss: 0.2344 - accuracy: 0.8994 - val_loss: 2.9435 - val_accuracy: 0.6849\n",
            "Epoch 165/200\n",
            "6/6 [==============================] - 0s 17ms/step - loss: 0.2314 - accuracy: 0.8994 - val_loss: 2.9682 - val_accuracy: 0.6849\n",
            "Epoch 166/200\n",
            "6/6 [==============================] - 0s 15ms/step - loss: 0.2303 - accuracy: 0.8994 - val_loss: 2.9864 - val_accuracy: 0.6849\n",
            "Epoch 167/200\n",
            "6/6 [==============================] - 0s 21ms/step - loss: 0.2324 - accuracy: 0.8994 - val_loss: 2.9855 - val_accuracy: 0.6849\n",
            "Epoch 168/200\n",
            "6/6 [==============================] - 0s 15ms/step - loss: 0.2298 - accuracy: 0.8994 - val_loss: 2.9917 - val_accuracy: 0.6712\n",
            "Epoch 169/200\n",
            "6/6 [==============================] - 0s 15ms/step - loss: 0.2316 - accuracy: 0.8994 - val_loss: 2.9917 - val_accuracy: 0.6849\n",
            "Epoch 170/200\n",
            "6/6 [==============================] - 0s 14ms/step - loss: 0.2340 - accuracy: 0.8876 - val_loss: 2.9961 - val_accuracy: 0.6849\n",
            "Epoch 171/200\n",
            "6/6 [==============================] - 0s 16ms/step - loss: 0.2340 - accuracy: 0.8876 - val_loss: 2.9886 - val_accuracy: 0.6849\n",
            "Epoch 172/200\n",
            "6/6 [==============================] - 0s 17ms/step - loss: 0.2345 - accuracy: 0.8935 - val_loss: 2.9843 - val_accuracy: 0.6849\n",
            "Epoch 173/200\n",
            "6/6 [==============================] - 0s 18ms/step - loss: 0.2314 - accuracy: 0.8935 - val_loss: 2.9706 - val_accuracy: 0.6849\n",
            "Epoch 174/200\n",
            "6/6 [==============================] - 0s 14ms/step - loss: 0.2292 - accuracy: 0.8994 - val_loss: 2.9719 - val_accuracy: 0.6849\n",
            "Epoch 175/200\n",
            "6/6 [==============================] - 0s 16ms/step - loss: 0.2297 - accuracy: 0.8994 - val_loss: 2.9640 - val_accuracy: 0.6712\n",
            "Epoch 176/200\n",
            "6/6 [==============================] - 0s 17ms/step - loss: 0.2329 - accuracy: 0.8994 - val_loss: 2.9754 - val_accuracy: 0.6712\n",
            "Epoch 177/200\n",
            "6/6 [==============================] - 0s 14ms/step - loss: 0.2340 - accuracy: 0.8994 - val_loss: 2.9798 - val_accuracy: 0.6849\n",
            "Epoch 178/200\n",
            "6/6 [==============================] - 0s 16ms/step - loss: 0.2322 - accuracy: 0.8994 - val_loss: 2.9897 - val_accuracy: 0.6849\n",
            "Epoch 179/200\n",
            "6/6 [==============================] - 0s 17ms/step - loss: 0.2335 - accuracy: 0.8994 - val_loss: 2.9964 - val_accuracy: 0.6849\n",
            "Epoch 180/200\n",
            "6/6 [==============================] - 0s 17ms/step - loss: 0.2290 - accuracy: 0.8994 - val_loss: 2.9891 - val_accuracy: 0.6849\n",
            "Epoch 181/200\n",
            "6/6 [==============================] - 0s 23ms/step - loss: 0.2327 - accuracy: 0.8994 - val_loss: 2.9808 - val_accuracy: 0.6849\n",
            "Epoch 182/200\n",
            "6/6 [==============================] - 0s 28ms/step - loss: 0.2317 - accuracy: 0.8994 - val_loss: 2.9820 - val_accuracy: 0.6849\n",
            "Epoch 183/200\n",
            "6/6 [==============================] - 0s 26ms/step - loss: 0.2283 - accuracy: 0.8994 - val_loss: 2.9965 - val_accuracy: 0.6849\n",
            "Epoch 184/200\n",
            "6/6 [==============================] - 0s 22ms/step - loss: 0.2322 - accuracy: 0.8994 - val_loss: 3.0046 - val_accuracy: 0.6849\n",
            "Epoch 185/200\n",
            "6/6 [==============================] - 0s 23ms/step - loss: 0.2339 - accuracy: 0.8994 - val_loss: 2.9981 - val_accuracy: 0.6849\n",
            "Epoch 186/200\n",
            "6/6 [==============================] - 0s 22ms/step - loss: 0.2321 - accuracy: 0.8994 - val_loss: 2.9924 - val_accuracy: 0.6849\n",
            "Epoch 187/200\n",
            "6/6 [==============================] - 0s 26ms/step - loss: 0.2336 - accuracy: 0.8935 - val_loss: 2.9909 - val_accuracy: 0.6849\n",
            "Epoch 188/200\n",
            "6/6 [==============================] - 0s 24ms/step - loss: 0.2350 - accuracy: 0.8994 - val_loss: 2.9808 - val_accuracy: 0.6849\n",
            "Epoch 189/200\n",
            "6/6 [==============================] - 0s 25ms/step - loss: 0.2342 - accuracy: 0.8994 - val_loss: 2.9801 - val_accuracy: 0.6849\n",
            "Epoch 190/200\n",
            "6/6 [==============================] - 0s 29ms/step - loss: 0.2338 - accuracy: 0.8994 - val_loss: 3.0018 - val_accuracy: 0.6849\n",
            "Epoch 191/200\n",
            "6/6 [==============================] - 0s 23ms/step - loss: 0.2308 - accuracy: 0.8994 - val_loss: 3.0218 - val_accuracy: 0.6849\n",
            "Epoch 192/200\n",
            "6/6 [==============================] - 0s 23ms/step - loss: 0.2306 - accuracy: 0.8994 - val_loss: 3.0345 - val_accuracy: 0.6849\n",
            "Epoch 193/200\n",
            "6/6 [==============================] - 0s 24ms/step - loss: 0.2338 - accuracy: 0.8994 - val_loss: 3.0314 - val_accuracy: 0.6849\n",
            "Epoch 194/200\n",
            "6/6 [==============================] - 0s 24ms/step - loss: 0.2311 - accuracy: 0.8994 - val_loss: 3.0014 - val_accuracy: 0.6849\n",
            "Epoch 195/200\n",
            "6/6 [==============================] - 0s 23ms/step - loss: 0.2356 - accuracy: 0.8994 - val_loss: 2.9989 - val_accuracy: 0.6849\n",
            "Epoch 196/200\n",
            "6/6 [==============================] - 0s 26ms/step - loss: 0.2323 - accuracy: 0.8994 - val_loss: 3.0124 - val_accuracy: 0.6849\n",
            "Epoch 197/200\n",
            "6/6 [==============================] - 0s 26ms/step - loss: 0.2338 - accuracy: 0.8817 - val_loss: 3.0247 - val_accuracy: 0.6849\n",
            "Epoch 198/200\n",
            "6/6 [==============================] - 0s 25ms/step - loss: 0.2338 - accuracy: 0.8876 - val_loss: 3.0247 - val_accuracy: 0.6849\n",
            "Epoch 199/200\n",
            "6/6 [==============================] - 0s 25ms/step - loss: 0.2339 - accuracy: 0.8935 - val_loss: 3.0085 - val_accuracy: 0.6849\n",
            "Epoch 200/200\n",
            "6/6 [==============================] - 0s 23ms/step - loss: 0.2382 - accuracy: 0.8935 - val_loss: 2.9941 - val_accuracy: 0.6849\n"
          ]
        },
        {
          "output_type": "execute_result",
          "data": {
            "text/plain": [
              "<keras.callbacks.History at 0x7847e0feba60>"
            ]
          },
          "metadata": {},
          "execution_count": 15
        }
      ]
    },
    {
      "cell_type": "code",
      "source": [
        "y_pred_probabilities = model.predict(X_test)"
      ],
      "metadata": {
        "id": "1WJu1WGVE5jO",
        "colab": {
          "base_uri": "https://localhost:8080/"
        },
        "outputId": "875b7ddc-c943-4989-d438-24dc2a7b4e40"
      },
      "execution_count": 16,
      "outputs": [
        {
          "output_type": "stream",
          "name": "stdout",
          "text": [
            "3/3 [==============================] - 0s 4ms/step\n"
          ]
        }
      ]
    },
    {
      "cell_type": "code",
      "source": [
        "y_pred_classes = np.argmax(y_pred_probabilities, axis=1)"
      ],
      "metadata": {
        "id": "io9KqxT4E5gT"
      },
      "execution_count": 17,
      "outputs": []
    },
    {
      "cell_type": "code",
      "source": [
        "for patient_idx, predicted_class in enumerate(y_pred_classes):\n",
        "    print(f\"Name {patient_idx + 1}: Predicted Medicine Class {predicted_class}\")"
      ],
      "metadata": {
        "id": "l3TKcVvHE5df",
        "colab": {
          "base_uri": "https://localhost:8080/"
        },
        "outputId": "e2619ab2-4bb6-4770-d541-f4d40ffaf23d"
      },
      "execution_count": 18,
      "outputs": [
        {
          "output_type": "stream",
          "name": "stdout",
          "text": [
            "Name 1: Predicted Medicine Class 24\n",
            "Name 2: Predicted Medicine Class 19\n",
            "Name 3: Predicted Medicine Class 50\n",
            "Name 4: Predicted Medicine Class 23\n",
            "Name 5: Predicted Medicine Class 39\n",
            "Name 6: Predicted Medicine Class 46\n",
            "Name 7: Predicted Medicine Class 11\n",
            "Name 8: Predicted Medicine Class 52\n",
            "Name 9: Predicted Medicine Class 7\n",
            "Name 10: Predicted Medicine Class 56\n",
            "Name 11: Predicted Medicine Class 29\n",
            "Name 12: Predicted Medicine Class 39\n",
            "Name 13: Predicted Medicine Class 27\n",
            "Name 14: Predicted Medicine Class 32\n",
            "Name 15: Predicted Medicine Class 46\n",
            "Name 16: Predicted Medicine Class 51\n",
            "Name 17: Predicted Medicine Class 49\n",
            "Name 18: Predicted Medicine Class 44\n",
            "Name 19: Predicted Medicine Class 44\n",
            "Name 20: Predicted Medicine Class 51\n",
            "Name 21: Predicted Medicine Class 39\n",
            "Name 22: Predicted Medicine Class 29\n",
            "Name 23: Predicted Medicine Class 50\n",
            "Name 24: Predicted Medicine Class 42\n",
            "Name 25: Predicted Medicine Class 41\n",
            "Name 26: Predicted Medicine Class 23\n",
            "Name 27: Predicted Medicine Class 24\n",
            "Name 28: Predicted Medicine Class 29\n",
            "Name 29: Predicted Medicine Class 27\n",
            "Name 30: Predicted Medicine Class 32\n",
            "Name 31: Predicted Medicine Class 32\n",
            "Name 32: Predicted Medicine Class 51\n",
            "Name 33: Predicted Medicine Class 41\n",
            "Name 34: Predicted Medicine Class 22\n",
            "Name 35: Predicted Medicine Class 44\n",
            "Name 36: Predicted Medicine Class 32\n",
            "Name 37: Predicted Medicine Class 41\n",
            "Name 38: Predicted Medicine Class 52\n",
            "Name 39: Predicted Medicine Class 27\n",
            "Name 40: Predicted Medicine Class 52\n",
            "Name 41: Predicted Medicine Class 22\n",
            "Name 42: Predicted Medicine Class 51\n",
            "Name 43: Predicted Medicine Class 51\n",
            "Name 44: Predicted Medicine Class 41\n",
            "Name 45: Predicted Medicine Class 23\n",
            "Name 46: Predicted Medicine Class 46\n",
            "Name 47: Predicted Medicine Class 50\n",
            "Name 48: Predicted Medicine Class 44\n",
            "Name 49: Predicted Medicine Class 52\n",
            "Name 50: Predicted Medicine Class 41\n",
            "Name 51: Predicted Medicine Class 51\n",
            "Name 52: Predicted Medicine Class 53\n",
            "Name 53: Predicted Medicine Class 51\n",
            "Name 54: Predicted Medicine Class 51\n",
            "Name 55: Predicted Medicine Class 40\n",
            "Name 56: Predicted Medicine Class 53\n",
            "Name 57: Predicted Medicine Class 22\n",
            "Name 58: Predicted Medicine Class 22\n",
            "Name 59: Predicted Medicine Class 47\n",
            "Name 60: Predicted Medicine Class 41\n",
            "Name 61: Predicted Medicine Class 46\n",
            "Name 62: Predicted Medicine Class 35\n",
            "Name 63: Predicted Medicine Class 35\n",
            "Name 64: Predicted Medicine Class 35\n",
            "Name 65: Predicted Medicine Class 32\n",
            "Name 66: Predicted Medicine Class 39\n",
            "Name 67: Predicted Medicine Class 51\n",
            "Name 68: Predicted Medicine Class 44\n",
            "Name 69: Predicted Medicine Class 39\n",
            "Name 70: Predicted Medicine Class 39\n",
            "Name 71: Predicted Medicine Class 44\n",
            "Name 72: Predicted Medicine Class 44\n",
            "Name 73: Predicted Medicine Class 44\n"
          ]
        }
      ]
    },
    {
      "cell_type": "code",
      "source": [
        "y_pred=model.predict(X_test)"
      ],
      "metadata": {
        "id": "Qdh7d1WD6_eE",
        "colab": {
          "base_uri": "https://localhost:8080/"
        },
        "outputId": "48964dfb-c60a-48ae-aafc-5c24684e0014"
      },
      "execution_count": 19,
      "outputs": [
        {
          "output_type": "stream",
          "name": "stdout",
          "text": [
            "3/3 [==============================] - 0s 5ms/step\n"
          ]
        }
      ]
    },
    {
      "cell_type": "code",
      "source": [
        "#y_pred=np.where(y_pred > 0.6, 1,0)\n"
      ],
      "metadata": {
        "id": "BZ4_himd6_hr"
      },
      "execution_count": null,
      "outputs": []
    },
    {
      "cell_type": "code",
      "source": [
        "model.save('medical.h5')"
      ],
      "metadata": {
        "id": "pWGOO7GIO87A"
      },
      "execution_count": 20,
      "outputs": []
    },
    {
      "cell_type": "code",
      "source": [
        "# import pickle\n",
        "# import tensorflow as tf\n",
        "\n",
        "# # Load the tokenizer\n",
        "# with open('/content/tokenizer.pickle', 'rb') as handle:\n",
        "#     tokenizer = pickle.load(handle)\n",
        "\n",
        "# # Load the saved model\n",
        "# model = tf.keras.models.load_model('medical.h5')\n",
        "\n",
        "# # Get input from the user\n",
        "# disease_name = input(\"Enter the disease name: \")\n",
        "\n",
        "# # Tokenize the input\n",
        "# input_sequence = tokenizer.texts_to_sequences([disease_name])\n",
        "# padded_sequence = tf.keras.preprocessing.sequence.pad_sequences(input_sequence, maxlen=max_sequence_len)\n",
        "\n",
        "# # Make predictions using the model\n",
        "# predictions = model.predict(padded_sequence)\n",
        "\n",
        "# # Get the predicted medicine\n",
        "# INDEX_TO_MEDICINE = df['Medicine']\n",
        "# predicted_medicine_index = tf.argmax(predictions, axis=-1).numpy()[0]\n",
        "# predicted_medicine = INDEX_TO_MEDICINE[predicted_medicine_index]  # Replace INDEX_TO_MEDICINE with your mapping\n",
        "\n",
        "# print(f\"recommended medicine for {disease_name}: {predicted_medicine}\")\n"
      ],
      "metadata": {
        "id": "Sk5RmOPO6_xF"
      },
      "execution_count": null,
      "outputs": []
    },
    {
      "cell_type": "markdown",
      "source": [
        "TESTING THE DATA"
      ],
      "metadata": {
        "id": "GR_mU8fcjlKq"
      }
    },
    {
      "cell_type": "code",
      "source": [
        "import pickle\n",
        "from tensorflow.keras.models import load_model\n",
        "from tensorflow.keras.preprocessing.sequence import pad_sequences\n",
        "\n",
        "# Load the trained model\n",
        "model = load_model('medical.h5')\n",
        "\n",
        "# Load the tokenizer\n",
        "with open('tokenizer.pickle', 'rb') as handle:\n",
        "    tokenizer = pickle.load(handle)\n",
        "\n",
        "# Define input data\n",
        "symptoms = input(\"Enter the symptoms :\")\n",
        "cause = input(\"Enter the cause\")\n",
        "disease_name = input(\"Enter the disease name: \")\n",
        "\n",
        "# Preprocess input data\n",
        "input_text = f\"{symptoms} {disease_name} {cause}\"\n",
        "input_sequence = tokenizer.texts_to_sequences([input_text])\n",
        "input_padded = pad_sequences(input_sequence, maxlen=max_sequence_len, padding='post')\n",
        "\n",
        "# Make a prediction\n",
        "predicted_label = model.predict(input_padded)\n",
        "predicted_medicine_index = np.argmax(predicted_label)\n",
        "predicted_medicine = label_encoder.inverse_transform([predicted_medicine_index])[0]\n",
        "\n",
        "print(f\"Predicted Medicine: {predicted_medicine}\")"
      ],
      "metadata": {
        "id": "pH5BVq2rhcRX",
        "colab": {
          "base_uri": "https://localhost:8080/"
        },
        "outputId": "76569394-56d0-4584-b554-f11a15edc261"
      },
      "execution_count": 28,
      "outputs": [
        {
          "output_type": "stream",
          "name": "stdout",
          "text": [
            "Enter the symptoms :headache\n",
            "Enter the causestress\n",
            "Enter the disease name: migraine\n",
            "1/1 [==============================] - 0s 398ms/step\n",
            "Predicted Medicine: Antibiotics, Rest\n"
          ]
        }
      ]
    }
  ]
}